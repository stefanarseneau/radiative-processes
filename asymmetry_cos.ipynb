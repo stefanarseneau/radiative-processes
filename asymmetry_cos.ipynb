{
 "cells": [
  {
   "cell_type": "markdown",
   "id": "de625f5f",
   "metadata": {},
   "source": [
    "# **Using HST COS data for Lyα** (Sujay)\n",
    "### We only use FUVM coadded spectra"
   ]
  },
  {
   "cell_type": "code",
   "execution_count": 3,
   "id": "9815bf05",
   "metadata": {},
   "outputs": [],
   "source": [
    "import altair as alt\n",
    "import corv\n",
    "import numpy as np\n",
    "import pandas as pd\n",
    "\n",
    "from astropy.table import Table\n",
    "from astroquery.gaia import Gaia as GQ\n",
    "from astroquery.simbad import Simbad as SQ\n",
    "from pathlib import Path\n",
    "from scripts import make_bins_alt\n",
    "from tqdm import tqdm\n",
    "from typing import Tuple"
   ]
  },
  {
   "cell_type": "code",
   "execution_count": 24,
   "id": "6c15413b",
   "metadata": {},
   "outputs": [],
   "source": [
    "cos_objs = pd.read_csv('data/hst_cos/STAR_WD_COS_new.info', sep=r'\\s,\\s+', engine='python', usecols=[1, 2, 3], names=['ID', 'FLAG', 'META'])\n",
    "cos_objs = cos_objs[cos_objs.META.str.contains('DA')]\n",
    "cos_objs = cos_objs[~cos_objs.META.str.contains('PULSAR')].ID\n",
    "\n",
    "gaia_ids = {}\n",
    "for obj in cos_objs:\n",
    "    query = SQ.query_objectids(obj).to_pandas().ID.str.decode('utf-8')\n",
    "    gaia_ids[int(query[query.str.contains('DR3')].iloc[0].replace('Gaia DR3 ', ''))] = obj\n",
    "\n",
    "params = GQ.launch_job(f'SELECT source_id, radial_velocity, teff_gspphot, logg_gspphot FROM gaiadr3.gaia_source WHERE source_id in {tuple(gaia_ids.keys())}').get_results().to_pandas()\n",
    "params['NAMES'] = params.SOURCE_ID.map(gaia_ids)\n",
    "params.to_csv('data/hst_cos/cos_params.csv', index=False)"
   ]
  },
  {
   "cell_type": "code",
   "execution_count": 37,
   "id": "198b3307",
   "metadata": {},
   "outputs": [
    {
     "data": {
      "text/plain": [
       "((80.42913256991254, 14267.137705522417, 8.508031931608903),\n",
       " array([ 892.47976   ,  892.48971959,  892.49967918, ..., 1479.64736241,\n",
       "        1479.657322  , 1479.66728159]),\n",
       " array([0., 0., 0., ..., 0., 0., 0.]),\n",
       " array([1.e+12, 1.e+12, 1.e+12, ..., 1.e+12, 1.e+12, 1.e+12]))"
      ]
     },
     "execution_count": 37,
     "metadata": {},
     "output_type": "execute_result"
    }
   ],
   "source": [
    "#make_bins_alt.read_nlte_spectrum('TYC-7218-934-1')\n",
    "source_id = 'WD2359-324'\n",
    "spec = Table.read(f'data/hst_cos/{source_id.replace(' ', '-')}_coadd_FUVM_final_lpALL.fits.gz').to_pandas()\n",
    "params = pd.read_csv('data/hst_cos/cos_params_updated.csv').query('NAMES == @source_id')\n",
    "(params.RV.iloc[0], params.teff.iloc[0], params.logg.iloc[0]), spec.WAVE.values, spec.FLUX.values, 1 / (1e-6 + spec.ERROR.values)**2"
   ]
  },
  {
   "cell_type": "code",
   "execution_count": 40,
   "id": "599a807b",
   "metadata": {},
   "outputs": [
    {
     "data": {
      "text/html": [
       "<div>\n",
       "<style scoped>\n",
       "    .dataframe tbody tr th:only-of-type {\n",
       "        vertical-align: middle;\n",
       "    }\n",
       "\n",
       "    .dataframe tbody tr th {\n",
       "        vertical-align: top;\n",
       "    }\n",
       "\n",
       "    .dataframe thead th {\n",
       "        text-align: right;\n",
       "    }\n",
       "</style>\n",
       "<table border=\"1\" class=\"dataframe\">\n",
       "  <thead>\n",
       "    <tr style=\"text-align: right;\">\n",
       "      <th></th>\n",
       "      <th>Unnamed: 0</th>\n",
       "      <th>NAMES</th>\n",
       "      <th>SOURCE_ID</th>\n",
       "      <th>teff</th>\n",
       "      <th>logg</th>\n",
       "      <th>RV</th>\n",
       "      <th>e_RV</th>\n",
       "    </tr>\n",
       "  </thead>\n",
       "  <tbody>\n",
       "    <tr>\n",
       "      <th>0</th>\n",
       "      <td>1</td>\n",
       "      <td>WD0106-328</td>\n",
       "      <td>5026963661794939520</td>\n",
       "      <td>15970.013916</td>\n",
       "      <td>8.356895</td>\n",
       "      <td>54.938465</td>\n",
       "      <td>2.639491</td>\n",
       "    </tr>\n",
       "    <tr>\n",
       "      <th>1</th>\n",
       "      <td>5</td>\n",
       "      <td>HE0308-2305</td>\n",
       "      <td>5075443981321647744</td>\n",
       "      <td>14864.825955</td>\n",
       "      <td>8.800420</td>\n",
       "      <td>74.030193</td>\n",
       "      <td>3.090362</td>\n",
       "    </tr>\n",
       "    <tr>\n",
       "      <th>2</th>\n",
       "      <td>7</td>\n",
       "      <td>HE0358-5127</td>\n",
       "      <td>4828757999190736128</td>\n",
       "      <td>14643.549939</td>\n",
       "      <td>8.615914</td>\n",
       "      <td>41.266260</td>\n",
       "      <td>2.554262</td>\n",
       "    </tr>\n",
       "    <tr>\n",
       "      <th>3</th>\n",
       "      <td>10</td>\n",
       "      <td>HE0403-4129</td>\n",
       "      <td>4842194473663089920</td>\n",
       "      <td>14499.999679</td>\n",
       "      <td>8.580147</td>\n",
       "      <td>26.898799</td>\n",
       "      <td>3.720792</td>\n",
       "    </tr>\n",
       "    <tr>\n",
       "      <th>4</th>\n",
       "      <td>12</td>\n",
       "      <td>HE0403-4129</td>\n",
       "      <td>4842194473663089920</td>\n",
       "      <td>14708.933844</td>\n",
       "      <td>8.835340</td>\n",
       "      <td>26.612462</td>\n",
       "      <td>4.375297</td>\n",
       "    </tr>\n",
       "    <tr>\n",
       "      <th>...</th>\n",
       "      <td>...</td>\n",
       "      <td>...</td>\n",
       "      <td>...</td>\n",
       "      <td>...</td>\n",
       "      <td>...</td>\n",
       "      <td>...</td>\n",
       "      <td>...</td>\n",
       "    </tr>\n",
       "    <tr>\n",
       "      <th>160</th>\n",
       "      <td>215</td>\n",
       "      <td>WD2350-248</td>\n",
       "      <td>2338275136195124864</td>\n",
       "      <td>27847.797871</td>\n",
       "      <td>8.766381</td>\n",
       "      <td>55.439573</td>\n",
       "      <td>3.869807</td>\n",
       "    </tr>\n",
       "    <tr>\n",
       "      <th>161</th>\n",
       "      <td>216</td>\n",
       "      <td>WD2350-248</td>\n",
       "      <td>2338275136195124864</td>\n",
       "      <td>27709.574772</td>\n",
       "      <td>8.784537</td>\n",
       "      <td>47.365674</td>\n",
       "      <td>4.582192</td>\n",
       "    </tr>\n",
       "    <tr>\n",
       "      <th>162</th>\n",
       "      <td>217</td>\n",
       "      <td>WD2359-324</td>\n",
       "      <td>2313582750735435776</td>\n",
       "      <td>14267.137706</td>\n",
       "      <td>8.508032</td>\n",
       "      <td>80.429133</td>\n",
       "      <td>4.380575</td>\n",
       "    </tr>\n",
       "    <tr>\n",
       "      <th>163</th>\n",
       "      <td>218</td>\n",
       "      <td>WD2359-324</td>\n",
       "      <td>2313582750735435776</td>\n",
       "      <td>13999.969864</td>\n",
       "      <td>8.062599</td>\n",
       "      <td>72.593497</td>\n",
       "      <td>6.068420</td>\n",
       "    </tr>\n",
       "    <tr>\n",
       "      <th>164</th>\n",
       "      <td>219</td>\n",
       "      <td>WD2359-324</td>\n",
       "      <td>2313582750735435776</td>\n",
       "      <td>14503.859270</td>\n",
       "      <td>8.642608</td>\n",
       "      <td>73.157560</td>\n",
       "      <td>3.821740</td>\n",
       "    </tr>\n",
       "  </tbody>\n",
       "</table>\n",
       "<p>165 rows × 7 columns</p>\n",
       "</div>"
      ],
      "text/plain": [
       "     Unnamed: 0        NAMES            SOURCE_ID          teff      logg  \\\n",
       "0             1   WD0106-328  5026963661794939520  15970.013916  8.356895   \n",
       "1             5  HE0308-2305  5075443981321647744  14864.825955  8.800420   \n",
       "2             7  HE0358-5127  4828757999190736128  14643.549939  8.615914   \n",
       "3            10  HE0403-4129  4842194473663089920  14499.999679  8.580147   \n",
       "4            12  HE0403-4129  4842194473663089920  14708.933844  8.835340   \n",
       "..          ...          ...                  ...           ...       ...   \n",
       "160         215   WD2350-248  2338275136195124864  27847.797871  8.766381   \n",
       "161         216   WD2350-248  2338275136195124864  27709.574772  8.784537   \n",
       "162         217   WD2359-324  2313582750735435776  14267.137706  8.508032   \n",
       "163         218   WD2359-324  2313582750735435776  13999.969864  8.062599   \n",
       "164         219   WD2359-324  2313582750735435776  14503.859270  8.642608   \n",
       "\n",
       "            RV      e_RV  \n",
       "0    54.938465  2.639491  \n",
       "1    74.030193  3.090362  \n",
       "2    41.266260  2.554262  \n",
       "3    26.898799  3.720792  \n",
       "4    26.612462  4.375297  \n",
       "..         ...       ...  \n",
       "160  55.439573  3.869807  \n",
       "161  47.365674  4.582192  \n",
       "162  80.429133  4.380575  \n",
       "163  72.593497  6.068420  \n",
       "164  73.157560  3.821740  \n",
       "\n",
       "[165 rows x 7 columns]"
      ]
     },
     "execution_count": 40,
     "metadata": {},
     "output_type": "execute_result"
    }
   ],
   "source": [
    "pd.read_csv('data/hst_cos/cos_params_updated.csv').dropna()\n"
   ]
  },
  {
   "cell_type": "code",
   "execution_count": 41,
   "id": "5672775f",
   "metadata": {},
   "outputs": [
    {
     "data": {
      "text/plain": [
       "(3, 4, 3, 20)"
      ]
     },
     "execution_count": 41,
     "metadata": {},
     "output_type": "execute_result"
    }
   ],
   "source": [
    "np.load('data_linecenters.npy').shape"
   ]
  }
 ],
 "metadata": {
  "kernelspec": {
   "display_name": "py312",
   "language": "python",
   "name": "python3"
  },
  "language_info": {
   "codemirror_mode": {
    "name": "ipython",
    "version": 3
   },
   "file_extension": ".py",
   "mimetype": "text/x-python",
   "name": "python",
   "nbconvert_exporter": "python",
   "pygments_lexer": "ipython3",
   "version": "3.12.1"
  }
 },
 "nbformat": 4,
 "nbformat_minor": 5
}
