{
 "cells": [
  {
   "cell_type": "markdown",
   "id": "de625f5f",
   "metadata": {},
   "source": [
    "# **Using HST COS data for Lyα** (Sujay)\n",
    "### We only use FUVM coadded spectra"
   ]
  },
  {
   "cell_type": "code",
   "execution_count": null,
   "id": "9815bf05",
   "metadata": {},
   "outputs": [],
   "source": [
    "import altair as alt\n",
    "import corv\n",
    "import numpy as np\n",
    "import pandas as pd\n",
    "\n",
    "from astropy.table import Table\n",
    "from pathlib import Path\n",
    "from scripts import make_bins\n",
    "from tqdm import tqdm\n",
    "from typing import Tuple"
   ]
  },
  {
   "cell_type": "code",
   "execution_count": 25,
   "id": "6c15413b",
   "metadata": {},
   "outputs": [
    {
     "data": {
      "text/plain": [
       "7      TYC-6917-654-1\n",
       "8      TYC-7218-934-1\n",
       "9      TYC-9151-303-1\n",
       "13           BPM71214\n",
       "16            G191B2B\n",
       "            ...      \n",
       "289        WD2126+734\n",
       "290        WD2230-125\n",
       "291        WD2319+691\n",
       "293        WD2336-079\n",
       "296        PG1508+549\n",
       "Name: ID, Length: 246, dtype: object"
      ]
     },
     "execution_count": 25,
     "metadata": {},
     "output_type": "execute_result"
    }
   ],
   "source": [
    "cos_objs = pd.read_csv('data/hst_cos/STAR_WD_COS_new.info', sep=r'\\s,\\s+', engine='python', usecols=[1, 2, 3], names=['ID', 'FLAG', 'META'])\n",
    "cos_objs = cos_objs[cos_objs.META.str.contains('DA')]\n",
    "cos_objs = cos_objs[~cos_objs.META.str.contains('PULSAR')].ID\n",
    "cos_objs"
   ]
  },
  {
   "cell_type": "code",
   "execution_count": 33,
   "id": "599a807b",
   "metadata": {},
   "outputs": [
    {
     "data": {
      "text/html": [
       "<div><i>Table length=58958</i>\n",
       "<table id=\"table140247923415888\" class=\"table-striped table-bordered table-condensed\">\n",
       "<thead><tr><th>WAVE</th><th>FLUX</th><th>ERROR</th><th>FLUXERR_UP</th><th>FLUXERR_DOWN</th><th>GROSSCOUNTS</th><th>NETCOUNTS</th><th>NETCOUNTSERR_UP</th><th>NETCOUNTSERR_DOWN</th><th>BACK</th><th>EXP_PIX</th><th>DQ</th><th>SN</th><th>FLUXFACTOR</th><th>FLUXWGT</th><th>FLUXWGT_ERR</th><th>CHI2</th><th>EXP_COUNTER</th></tr></thead>\n",
       "<thead><tr><th>float64</th><th>float64</th><th>float64</th><th>float64</th><th>float64</th><th>float64</th><th>float64</th><th>float64</th><th>float64</th><th>float64</th><th>float64</th><th>int64</th><th>float64</th><th>float64</th><th>float64</th><th>float64</th><th>float64</th><th>float64</th></tr></thead>\n",
       "<tr><td>892.47976</td><td>0.0</td><td>0.0</td><td>0.0</td><td>0.0</td><td>0.0</td><td>0.0</td><td>0.0</td><td>0.0</td><td>0.0</td><td>0.0</td><td>0</td><td>0.0</td><td>0.0</td><td>0.0</td><td>0.0</td><td>0.0</td><td>0.0</td></tr>\n",
       "<tr><td>892.4897195895584</td><td>0.0</td><td>0.0</td><td>0.0</td><td>0.0</td><td>0.0</td><td>0.0</td><td>0.0</td><td>0.0</td><td>0.0</td><td>0.0</td><td>0</td><td>0.0</td><td>0.0</td><td>0.0</td><td>0.0</td><td>0.0</td><td>0.0</td></tr>\n",
       "<tr><td>892.4996791791167</td><td>0.0</td><td>0.0</td><td>0.0</td><td>0.0</td><td>0.0</td><td>0.0</td><td>0.0</td><td>0.0</td><td>0.0</td><td>0.0</td><td>0</td><td>0.0</td><td>0.0</td><td>0.0</td><td>0.0</td><td>0.0</td><td>0.0</td></tr>\n",
       "<tr><td>892.509638768675</td><td>0.0</td><td>0.0</td><td>0.0</td><td>0.0</td><td>0.0</td><td>0.0</td><td>0.0</td><td>0.0</td><td>0.0</td><td>0.0</td><td>0</td><td>0.0</td><td>0.0</td><td>0.0</td><td>0.0</td><td>0.0</td><td>0.0</td></tr>\n",
       "<tr><td>892.5195983582333</td><td>0.0</td><td>0.0</td><td>0.0</td><td>0.0</td><td>0.0</td><td>0.0</td><td>0.0</td><td>0.0</td><td>0.0</td><td>0.0</td><td>0</td><td>0.0</td><td>0.0</td><td>0.0</td><td>0.0</td><td>0.0</td><td>0.0</td></tr>\n",
       "<tr><td>892.5295579477917</td><td>0.0</td><td>0.0</td><td>0.0</td><td>0.0</td><td>0.0</td><td>0.0</td><td>0.0</td><td>0.0</td><td>0.0</td><td>0.0</td><td>0</td><td>0.0</td><td>0.0</td><td>0.0</td><td>0.0</td><td>0.0</td><td>0.0</td></tr>\n",
       "<tr><td>892.53951753735</td><td>0.0</td><td>0.0</td><td>0.0</td><td>0.0</td><td>0.0</td><td>0.0</td><td>0.0</td><td>0.0</td><td>0.0</td><td>0.0</td><td>0</td><td>0.0</td><td>0.0</td><td>0.0</td><td>0.0</td><td>0.0</td><td>0.0</td></tr>\n",
       "<tr><td>892.5494771269083</td><td>0.0</td><td>0.0</td><td>0.0</td><td>0.0</td><td>0.0</td><td>0.0</td><td>0.0</td><td>0.0</td><td>0.0</td><td>0.0</td><td>0</td><td>0.0</td><td>0.0</td><td>0.0</td><td>0.0</td><td>0.0</td><td>0.0</td></tr>\n",
       "<tr><td>892.5594367164666</td><td>0.0</td><td>0.0</td><td>0.0</td><td>0.0</td><td>0.0</td><td>0.0</td><td>0.0</td><td>0.0</td><td>0.0</td><td>0.0</td><td>0</td><td>0.0</td><td>0.0</td><td>0.0</td><td>0.0</td><td>0.0</td><td>0.0</td></tr>\n",
       "<tr><td>...</td><td>...</td><td>...</td><td>...</td><td>...</td><td>...</td><td>...</td><td>...</td><td>...</td><td>...</td><td>...</td><td>...</td><td>...</td><td>...</td><td>...</td><td>...</td><td>...</td><td>...</td></tr>\n",
       "<tr><td>1479.5776452840191</td><td>0.0</td><td>0.0</td><td>0.0</td><td>0.0</td><td>0.0</td><td>0.0</td><td>0.0</td><td>0.0</td><td>0.0</td><td>0.0</td><td>0</td><td>0.0</td><td>0.0</td><td>0.0</td><td>0.0</td><td>0.0</td><td>0.0</td></tr>\n",
       "<tr><td>1479.5876048735772</td><td>0.0</td><td>0.0</td><td>0.0</td><td>0.0</td><td>0.0</td><td>0.0</td><td>0.0</td><td>0.0</td><td>0.0</td><td>0.0</td><td>0</td><td>0.0</td><td>0.0</td><td>0.0</td><td>0.0</td><td>0.0</td><td>0.0</td></tr>\n",
       "<tr><td>1479.5975644631358</td><td>0.0</td><td>0.0</td><td>0.0</td><td>0.0</td><td>0.0</td><td>0.0</td><td>0.0</td><td>0.0</td><td>0.0</td><td>0.0</td><td>0</td><td>0.0</td><td>0.0</td><td>0.0</td><td>0.0</td><td>0.0</td><td>0.0</td></tr>\n",
       "<tr><td>1479.6075240526939</td><td>0.0</td><td>0.0</td><td>0.0</td><td>0.0</td><td>0.0</td><td>0.0</td><td>0.0</td><td>0.0</td><td>0.0</td><td>0.0</td><td>0</td><td>0.0</td><td>0.0</td><td>0.0</td><td>0.0</td><td>0.0</td><td>0.0</td></tr>\n",
       "<tr><td>1479.6174836422524</td><td>0.0</td><td>0.0</td><td>0.0</td><td>0.0</td><td>0.0</td><td>0.0</td><td>0.0</td><td>0.0</td><td>0.0</td><td>0.0</td><td>0</td><td>0.0</td><td>0.0</td><td>0.0</td><td>0.0</td><td>0.0</td><td>0.0</td></tr>\n",
       "<tr><td>1479.6274432318105</td><td>0.0</td><td>0.0</td><td>0.0</td><td>0.0</td><td>0.0</td><td>0.0</td><td>0.0</td><td>0.0</td><td>0.0</td><td>0.0</td><td>0</td><td>0.0</td><td>0.0</td><td>0.0</td><td>0.0</td><td>0.0</td><td>0.0</td></tr>\n",
       "<tr><td>1479.637402821369</td><td>0.0</td><td>0.0</td><td>0.0</td><td>0.0</td><td>0.0</td><td>0.0</td><td>0.0</td><td>0.0</td><td>0.0</td><td>0.0</td><td>0</td><td>0.0</td><td>0.0</td><td>0.0</td><td>0.0</td><td>0.0</td><td>0.0</td></tr>\n",
       "<tr><td>1479.6473624109271</td><td>0.0</td><td>0.0</td><td>0.0</td><td>0.0</td><td>0.0</td><td>0.0</td><td>0.0</td><td>0.0</td><td>0.0</td><td>0.0</td><td>0</td><td>0.0</td><td>0.0</td><td>0.0</td><td>0.0</td><td>0.0</td><td>0.0</td></tr>\n",
       "<tr><td>1479.6573220004857</td><td>0.0</td><td>0.0</td><td>0.0</td><td>0.0</td><td>0.0</td><td>0.0</td><td>0.0</td><td>0.0</td><td>0.0</td><td>0.0</td><td>0</td><td>0.0</td><td>0.0</td><td>0.0</td><td>0.0</td><td>0.0</td><td>0.0</td></tr>\n",
       "<tr><td>1479.6672815900438</td><td>0.0</td><td>0.0</td><td>0.0</td><td>0.0</td><td>0.0</td><td>0.0</td><td>0.0</td><td>0.0</td><td>0.0</td><td>0.0</td><td>0</td><td>0.0</td><td>0.0</td><td>0.0</td><td>0.0</td><td>0.0</td><td>0.0</td></tr>\n",
       "</table></div>"
      ],
      "text/plain": [
       "<Table length=58958>\n",
       "       WAVE          FLUX   ERROR  ... FLUXWGT_ERR   CHI2  EXP_COUNTER\n",
       "     float64       float64 float64 ...   float64   float64   float64  \n",
       "------------------ ------- ------- ... ----------- ------- -----------\n",
       "         892.47976     0.0     0.0 ...         0.0     0.0         0.0\n",
       " 892.4897195895584     0.0     0.0 ...         0.0     0.0         0.0\n",
       " 892.4996791791167     0.0     0.0 ...         0.0     0.0         0.0\n",
       "  892.509638768675     0.0     0.0 ...         0.0     0.0         0.0\n",
       " 892.5195983582333     0.0     0.0 ...         0.0     0.0         0.0\n",
       " 892.5295579477917     0.0     0.0 ...         0.0     0.0         0.0\n",
       "   892.53951753735     0.0     0.0 ...         0.0     0.0         0.0\n",
       " 892.5494771269083     0.0     0.0 ...         0.0     0.0         0.0\n",
       " 892.5594367164666     0.0     0.0 ...         0.0     0.0         0.0\n",
       "               ...     ...     ... ...         ...     ...         ...\n",
       "1479.5776452840191     0.0     0.0 ...         0.0     0.0         0.0\n",
       "1479.5876048735772     0.0     0.0 ...         0.0     0.0         0.0\n",
       "1479.5975644631358     0.0     0.0 ...         0.0     0.0         0.0\n",
       "1479.6075240526939     0.0     0.0 ...         0.0     0.0         0.0\n",
       "1479.6174836422524     0.0     0.0 ...         0.0     0.0         0.0\n",
       "1479.6274432318105     0.0     0.0 ...         0.0     0.0         0.0\n",
       " 1479.637402821369     0.0     0.0 ...         0.0     0.0         0.0\n",
       "1479.6473624109271     0.0     0.0 ...         0.0     0.0         0.0\n",
       "1479.6573220004857     0.0     0.0 ...         0.0     0.0         0.0\n",
       "1479.6672815900438     0.0     0.0 ...         0.0     0.0         0.0"
      ]
     },
     "execution_count": 33,
     "metadata": {},
     "output_type": "execute_result"
    }
   ],
   "source": [
    "tab = Table.read(Path('data/hst_cos/APASSJ090028.59-090923.2_coadd_FUVM_final_lpALL.fits.gz'))\n",
    "tab"
   ]
  }
 ],
 "metadata": {
  "kernelspec": {
   "display_name": "py312",
   "language": "python",
   "name": "python3"
  },
  "language_info": {
   "codemirror_mode": {
    "name": "ipython",
    "version": 3
   },
   "file_extension": ".py",
   "mimetype": "text/x-python",
   "name": "python",
   "nbconvert_exporter": "python",
   "pygments_lexer": "ipython3",
   "version": "3.12.7"
  }
 },
 "nbformat": 4,
 "nbformat_minor": 5
}
