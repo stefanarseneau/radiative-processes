{
 "cells": [
  {
   "cell_type": "markdown",
   "id": "de625f5f",
   "metadata": {},
   "source": [
    "# **Using HST COS data for Lyα** (Sujay)"
   ]
  },
  {
   "cell_type": "code",
   "execution_count": null,
   "id": "9815bf05",
   "metadata": {},
   "outputs": [],
   "source": [
    "import altair as alt\n",
    "import corv\n",
    "import numpy as np\n",
    "import pandas as pd\n",
    "\n",
    "from astropy.table import Table\n",
    "from pathlib import Path\n",
    "from scripts import make_bins\n",
    "from tqdm import tqdm\n",
    "from typing import Tuple"
   ]
  },
  {
   "cell_type": "code",
   "execution_count": 25,
   "id": "6c15413b",
   "metadata": {},
   "outputs": [
    {
     "data": {
      "text/plain": [
       "7      TYC-6917-654-1\n",
       "8      TYC-7218-934-1\n",
       "9      TYC-9151-303-1\n",
       "13           BPM71214\n",
       "16            G191B2B\n",
       "            ...      \n",
       "289        WD2126+734\n",
       "290        WD2230-125\n",
       "291        WD2319+691\n",
       "293        WD2336-079\n",
       "296        PG1508+549\n",
       "Name: ID, Length: 246, dtype: object"
      ]
     },
     "execution_count": 25,
     "metadata": {},
     "output_type": "execute_result"
    }
   ],
   "source": [
    "cos_objs = pd.read_csv('data/hst_cos/STAR_WD_COS_new.info', sep=r'\\s,\\s+', engine='python', usecols=[1, 2, 3], names=['ID', 'FLAG', 'META'])\n",
    "cos_objs = cos_objs[cos_objs.META.str.contains('DA')]\n",
    "cos_objs = cos_objs[~cos_objs.META.str.contains('PULSAR')].ID\n",
    "cos_objs"
   ]
  }
 ],
 "metadata": {
  "kernelspec": {
   "display_name": "py312",
   "language": "python",
   "name": "python3"
  },
  "language_info": {
   "codemirror_mode": {
    "name": "ipython",
    "version": 3
   },
   "file_extension": ".py",
   "mimetype": "text/x-python",
   "name": "python",
   "nbconvert_exporter": "python",
   "pygments_lexer": "ipython3",
   "version": "3.12.7"
  }
 },
 "nbformat": 4,
 "nbformat_minor": 5
}
