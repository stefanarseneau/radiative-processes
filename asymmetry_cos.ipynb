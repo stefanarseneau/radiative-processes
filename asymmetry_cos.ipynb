{
 "cells": [
  {
   "cell_type": "markdown",
   "id": "de625f5f",
   "metadata": {},
   "source": [
    "# **Using HST COS data for Lyα** (Sujay)\n",
    "### We only use FUVM coadded spectra"
   ]
  },
  {
   "cell_type": "code",
   "execution_count": 3,
   "id": "9815bf05",
   "metadata": {},
   "outputs": [],
   "source": [
    "import altair as alt\n",
    "import corv\n",
    "import numpy as np\n",
    "import pandas as pd\n",
    "\n",
    "from astropy.table import Table\n",
    "from astroquery.gaia import Gaia as GQ\n",
    "from astroquery.simbad import Simbad as SQ\n",
    "from pathlib import Path\n",
    "from scripts import make_bins_alt\n",
    "from tqdm import tqdm\n",
    "from typing import Tuple"
   ]
  },
  {
   "cell_type": "code",
   "execution_count": 24,
   "id": "6c15413b",
   "metadata": {},
   "outputs": [],
   "source": [
    "cos_objs = pd.read_csv('data/hst_cos/STAR_WD_COS_new.info', sep=r'\\s,\\s+', engine='python', usecols=[1, 2, 3], names=['ID', 'FLAG', 'META'])\n",
    "cos_objs = cos_objs[cos_objs.META.str.contains('DA')]\n",
    "cos_objs = cos_objs[~cos_objs.META.str.contains('PULSAR')].ID\n",
    "\n",
    "gaia_ids = {}\n",
    "for obj in cos_objs:\n",
    "    query = SQ.query_objectids(obj).to_pandas().ID.str.decode('utf-8')\n",
    "    gaia_ids[int(query[query.str.contains('DR3')].iloc[0].replace('Gaia DR3 ', ''))] = obj\n",
    "\n",
    "params = GQ.launch_job(f'SELECT source_id, radial_velocity, teff_gspphot, logg_gspphot FROM gaiadr3.gaia_source WHERE source_id in {tuple(gaia_ids.keys())}').get_results().to_pandas()\n",
    "params['NAMES'] = params.SOURCE_ID.map(gaia_ids)\n",
    "params.to_csv('data/hst_cos/cos_params.csv', index=False)"
   ]
  },
  {
   "cell_type": "code",
   "execution_count": null,
   "id": "198b3307",
   "metadata": {},
   "outputs": [
    {
     "ename": "AttributeError",
     "evalue": "'numpy.ndarray' object has no attribute 'idxmax'",
     "output_type": "error",
     "traceback": [
      "\u001b[0;31m---------------------------------------------------------------------------\u001b[0m",
      "\u001b[0;31mAttributeError\u001b[0m                            Traceback (most recent call last)",
      "Cell \u001b[0;32mIn[21], line 6\u001b[0m\n\u001b[1;32m      4\u001b[0m params \u001b[38;5;241m=\u001b[39m pd\u001b[38;5;241m.\u001b[39mread_csv(\u001b[38;5;124m'\u001b[39m\u001b[38;5;124mdata/hst_cos/cos_params.csv\u001b[39m\u001b[38;5;124m'\u001b[39m)\u001b[38;5;241m.\u001b[39mquery(\u001b[38;5;124m'\u001b[39m\u001b[38;5;124mSOURCE_ID == @source_id\u001b[39m\u001b[38;5;124m'\u001b[39m)\n\u001b[1;32m      5\u001b[0m (params\u001b[38;5;241m.\u001b[39mradial_velocity\u001b[38;5;241m.\u001b[39miloc[\u001b[38;5;241m0\u001b[39m], params\u001b[38;5;241m.\u001b[39mteff_gspphot\u001b[38;5;241m.\u001b[39miloc[\u001b[38;5;241m0\u001b[39m], params\u001b[38;5;241m.\u001b[39mlogg_gspphot\u001b[38;5;241m.\u001b[39miloc[\u001b[38;5;241m0\u001b[39m]), spec\u001b[38;5;241m.\u001b[39mWAVE\u001b[38;5;241m.\u001b[39mvalues, spec\u001b[38;5;241m.\u001b[39mFLUX\u001b[38;5;241m.\u001b[39mvalues, \u001b[38;5;241m1e12\u001b[39m\u001b[38;5;241m*\u001b[39mnp\u001b[38;5;241m.\u001b[39mones_like(spec\u001b[38;5;241m.\u001b[39mWAVE)\n\u001b[0;32m----> 6\u001b[0m \u001b[43mspec\u001b[49m\u001b[38;5;241;43m.\u001b[39;49m\u001b[43mFLUX\u001b[49m\u001b[38;5;241;43m.\u001b[39;49m\u001b[43mvalues\u001b[49m\u001b[38;5;241;43m.\u001b[39;49m\u001b[43midxmax\u001b[49m()\n",
      "\u001b[0;31mAttributeError\u001b[0m: 'numpy.ndarray' object has no attribute 'idxmax'"
     ]
    }
   ],
   "source": [
    "#make_bins_alt.read_nlte_spectrum('TYC-7218-934-1')\n",
    "source_id = 'TYC 7218-934-1'\n",
    "spec = Table.read(f'data/hst_cos/{source_id.replace(' ', '-')}_coadd_FUVM_final_lpALL.fits.gz').to_pandas()\n",
    "params = pd.read_csv('data/hst_cos/cos_params.csv').query('SOURCE_ID == @source_id')\n",
    "(params.radial_velocity.iloc[0], params.teff_gspphot.iloc[0], params.logg_gspphot.iloc[0]), spec.WAVE.values, spec.FLUX.values, 1e12*np.ones_like(spec.WAVE)"
   ]
  },
  {
   "cell_type": "code",
   "execution_count": 121,
   "id": "599a807b",
   "metadata": {},
   "outputs": [
    {
     "data": {
      "text/plain": [
       "0       LAMOST J154934.76+053518.2\n",
       "1         SDSS J154934.75+053517.1\n",
       "2           GALEX J154934.7+053518\n",
       "3     Gaia DR3 4426435871273922560\n",
       "4                    TIC 272675206\n",
       "5                      PG 1547+057\n",
       "6                      WD 1547+057\n",
       "7         SDSS J154934.77+053517.1\n",
       "8          USNO-B1.0 0955-00254275\n",
       "9          2MASS J15493479+0535169\n",
       "10        SDSS J154934.78+053517.1\n",
       "11    Gaia DR2 4426435871273922560\n",
       "Name: ID, dtype: object"
      ]
     },
     "execution_count": 121,
     "metadata": {},
     "output_type": "execute_result"
    }
   ],
   "source": [
    "cos_objs[137]\n",
    "SQ.query_objectids('WD1547+057').to_pandas().ID.str.decode('utf-8')\n"
   ]
  },
  {
   "cell_type": "code",
   "execution_count": 16,
   "id": "5672775f",
   "metadata": {},
   "outputs": [
    {
     "data": {
      "text/plain": [
       "0        inf\n",
       "1        inf\n",
       "2        inf\n",
       "3        inf\n",
       "4        inf\n",
       "        ... \n",
       "58953    inf\n",
       "58954    inf\n",
       "58955    inf\n",
       "58956    inf\n",
       "58957    inf\n",
       "Name: ERROR, Length: 58958, dtype: float64"
      ]
     },
     "execution_count": 16,
     "metadata": {},
     "output_type": "execute_result"
    }
   ],
   "source": [
    "tbl = Table.read('data/hst_cos/TYC-7218-934-1_coadd_FUVM_final_lpALL.fits.gz').to_pandas()\n",
    "tbl.ERROR ** -2"
   ]
  }
 ],
 "metadata": {
  "kernelspec": {
   "display_name": "py312",
   "language": "python",
   "name": "python3"
  },
  "language_info": {
   "codemirror_mode": {
    "name": "ipython",
    "version": 3
   },
   "file_extension": ".py",
   "mimetype": "text/x-python",
   "name": "python",
   "nbconvert_exporter": "python",
   "pygments_lexer": "ipython3",
   "version": "3.12.1"
  }
 },
 "nbformat": 4,
 "nbformat_minor": 5
}
