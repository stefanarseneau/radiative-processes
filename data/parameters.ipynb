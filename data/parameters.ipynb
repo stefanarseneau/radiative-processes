{
 "cells": [
  {
   "cell_type": "code",
   "execution_count": 20,
   "id": "aea186a7",
   "metadata": {},
   "outputs": [
    {
     "data": {
      "text/html": [
       "<div>\n",
       "<style scoped>\n",
       "    .dataframe tbody tr th:only-of-type {\n",
       "        vertical-align: middle;\n",
       "    }\n",
       "\n",
       "    .dataframe tbody tr th {\n",
       "        vertical-align: top;\n",
       "    }\n",
       "\n",
       "    .dataframe thead th {\n",
       "        text-align: right;\n",
       "    }\n",
       "</style>\n",
       "<table border=\"1\" class=\"dataframe\">\n",
       "  <thead>\n",
       "    <tr style=\"text-align: right;\">\n",
       "      <th></th>\n",
       "      <th>SOURCE_ID</th>\n",
       "      <th>radial_velocity</th>\n",
       "      <th>teff_gspphot</th>\n",
       "      <th>logg_gspphot</th>\n",
       "      <th>NAMES</th>\n",
       "    </tr>\n",
       "  </thead>\n",
       "  <tbody>\n",
       "    <tr>\n",
       "      <th>0</th>\n",
       "      <td>18493721155296768</td>\n",
       "      <td>NaN</td>\n",
       "      <td>NaN</td>\n",
       "      <td>NaN</td>\n",
       "      <td>WD0235+064</td>\n",
       "    </tr>\n",
       "    <tr>\n",
       "      <th>1</th>\n",
       "      <td>31047257726638592</td>\n",
       "      <td>NaN</td>\n",
       "      <td>NaN</td>\n",
       "      <td>NaN</td>\n",
       "      <td>WD0307+149</td>\n",
       "    </tr>\n",
       "    <tr>\n",
       "      <th>2</th>\n",
       "      <td>59077760488621184</td>\n",
       "      <td>NaN</td>\n",
       "      <td>NaN</td>\n",
       "      <td>NaN</td>\n",
       "      <td>WD0308+188</td>\n",
       "    </tr>\n",
       "    <tr>\n",
       "      <th>3</th>\n",
       "      <td>75783121685634816</td>\n",
       "      <td>NaN</td>\n",
       "      <td>NaN</td>\n",
       "      <td>NaN</td>\n",
       "      <td>WD0216+143</td>\n",
       "    </tr>\n",
       "    <tr>\n",
       "      <th>4</th>\n",
       "      <td>95297185335797120</td>\n",
       "      <td>NaN</td>\n",
       "      <td>NaN</td>\n",
       "      <td>NaN</td>\n",
       "      <td>WOLF88</td>\n",
       "    </tr>\n",
       "  </tbody>\n",
       "</table>\n",
       "</div>"
      ],
      "text/plain": [
       "           SOURCE_ID  radial_velocity  teff_gspphot  logg_gspphot       NAMES\n",
       "0  18493721155296768              NaN           NaN           NaN  WD0235+064\n",
       "1  31047257726638592              NaN           NaN           NaN  WD0307+149\n",
       "2  59077760488621184              NaN           NaN           NaN  WD0308+188\n",
       "3  75783121685634816              NaN           NaN           NaN  WD0216+143\n",
       "4  95297185335797120              NaN           NaN           NaN      WOLF88"
      ]
     },
     "execution_count": 20,
     "metadata": {},
     "output_type": "execute_result"
    }
   ],
   "source": [
    "import pandas as pd\n",
    "\n",
    "cosstars = pd.read_csv(\"hst_cos/cos_params.csv\")\n",
    "spyobjs = pd.read_csv(\"reference_objs.csv\")\n",
    "radial_velocities = pd.read_csv(\"radial_velocities/nlte_core/ab_15aa.csv\")\n",
    "cosstars.head()"
   ]
  },
  {
   "cell_type": "code",
   "execution_count": 21,
   "id": "1c1edef0",
   "metadata": {},
   "outputs": [],
   "source": [
    "objects = pd.merge(pd.merge(spyobjs, cosstars, left_on=\"SOURCE_ID\", right_on=\"SOURCE_ID\"), radial_velocities, on='obsname').query(f\"7.01 < nlte_logg < 8.99 & nlte_redchi < 5 & nlte_e_rv < 15\")\n",
    "objs_reduced = objects[[\"NAMES\", \"SOURCE_ID\", \"nlte_teff\", \"nlte_logg\", \"nlte_rv\", \"nlte_e_rv\"]]\n",
    "objs_reduced.rename(columns={\"nlte_teff\":\"teff\", \"nlte_logg\":\"logg\", \"nlte_rv\":\"RV\", \"nlte_e_rv\":\"e_RV\"}).to_csv(\"hst_cos/cos_params_updated.csv\")"
   ]
  },
  {
   "cell_type": "code",
   "execution_count": null,
   "id": "ab507ad6",
   "metadata": {},
   "outputs": [],
   "source": []
  }
 ],
 "metadata": {
  "kernelspec": {
   "display_name": "structure",
   "language": "python",
   "name": "python3"
  },
  "language_info": {
   "codemirror_mode": {
    "name": "ipython",
    "version": 3
   },
   "file_extension": ".py",
   "mimetype": "text/x-python",
   "name": "python",
   "nbconvert_exporter": "python",
   "pygments_lexer": "ipython3",
   "version": "3.13.2"
  }
 },
 "nbformat": 4,
 "nbformat_minor": 5
}
